{
 "cells": [
  {
   "cell_type": "code",
   "execution_count": 128,
   "id": "b436fd62",
   "metadata": {},
   "outputs": [],
   "source": [
    "import pandas as pd\n",
    "import matplotlib.pyplot as plt\n",
    "import numpy as np\n",
    "import seaborn as sns\n"
   ]
  },
  {
   "cell_type": "markdown",
   "id": "494938ab",
   "metadata": {},
   "source": [
    "## Now we read the csv and see columns "
   ]
  },
  {
   "cell_type": "code",
   "execution_count": 129,
   "id": "35239b24",
   "metadata": {},
   "outputs": [
    {
     "data": {
      "text/html": [
       "<div>\n",
       "<style scoped>\n",
       "    .dataframe tbody tr th:only-of-type {\n",
       "        vertical-align: middle;\n",
       "    }\n",
       "\n",
       "    .dataframe tbody tr th {\n",
       "        vertical-align: top;\n",
       "    }\n",
       "\n",
       "    .dataframe thead th {\n",
       "        text-align: right;\n",
       "    }\n",
       "</style>\n",
       "<table border=\"1\" class=\"dataframe\">\n",
       "  <thead>\n",
       "    <tr style=\"text-align: right;\">\n",
       "      <th></th>\n",
       "      <th>Unnamed: 0</th>\n",
       "      <th>cust_id</th>\n",
       "      <th>activated_date</th>\n",
       "      <th>last_payment_date</th>\n",
       "      <th>balance</th>\n",
       "      <th>balance_frequency</th>\n",
       "      <th>purchases</th>\n",
       "      <th>oneoff_purchases</th>\n",
       "      <th>installments_purchases</th>\n",
       "      <th>cash_advance</th>\n",
       "      <th>...</th>\n",
       "      <th>purchases_installments_frequency</th>\n",
       "      <th>cash_advance_frequency</th>\n",
       "      <th>cash_advance_trx</th>\n",
       "      <th>purchases_trx</th>\n",
       "      <th>credit_limit</th>\n",
       "      <th>payments</th>\n",
       "      <th>minimum_payments</th>\n",
       "      <th>prc_full_payment</th>\n",
       "      <th>tenure</th>\n",
       "      <th>fraud</th>\n",
       "    </tr>\n",
       "  </thead>\n",
       "  <tbody>\n",
       "    <tr>\n",
       "      <th>0</th>\n",
       "      <td>1</td>\n",
       "      <td>C10001</td>\n",
       "      <td>2019-10-06</td>\n",
       "      <td>2020-09-09</td>\n",
       "      <td>40.900749</td>\n",
       "      <td>0.818182</td>\n",
       "      <td>95.40</td>\n",
       "      <td>0.00</td>\n",
       "      <td>95.4</td>\n",
       "      <td>0.000000</td>\n",
       "      <td>...</td>\n",
       "      <td>0.083333</td>\n",
       "      <td>0.000000</td>\n",
       "      <td>0</td>\n",
       "      <td>2</td>\n",
       "      <td>1000.0</td>\n",
       "      <td>201.802084</td>\n",
       "      <td>139.509787</td>\n",
       "      <td>0.000000</td>\n",
       "      <td>12</td>\n",
       "      <td>0</td>\n",
       "    </tr>\n",
       "    <tr>\n",
       "      <th>1</th>\n",
       "      <td>2</td>\n",
       "      <td>C10002</td>\n",
       "      <td>2019-10-06</td>\n",
       "      <td>2020-07-04</td>\n",
       "      <td>3202.467416</td>\n",
       "      <td>0.909091</td>\n",
       "      <td>0.00</td>\n",
       "      <td>0.00</td>\n",
       "      <td>0.0</td>\n",
       "      <td>6442.945483</td>\n",
       "      <td>...</td>\n",
       "      <td>0.000000</td>\n",
       "      <td>0.250000</td>\n",
       "      <td>4</td>\n",
       "      <td>0</td>\n",
       "      <td>7000.0</td>\n",
       "      <td>4103.032597</td>\n",
       "      <td>1072.340217</td>\n",
       "      <td>0.222222</td>\n",
       "      <td>12</td>\n",
       "      <td>0</td>\n",
       "    </tr>\n",
       "    <tr>\n",
       "      <th>2</th>\n",
       "      <td>3</td>\n",
       "      <td>C10003</td>\n",
       "      <td>2019-10-06</td>\n",
       "      <td>2020-09-17</td>\n",
       "      <td>2495.148862</td>\n",
       "      <td>1.000000</td>\n",
       "      <td>773.17</td>\n",
       "      <td>773.17</td>\n",
       "      <td>0.0</td>\n",
       "      <td>0.000000</td>\n",
       "      <td>...</td>\n",
       "      <td>0.000000</td>\n",
       "      <td>0.000000</td>\n",
       "      <td>0</td>\n",
       "      <td>12</td>\n",
       "      <td>7500.0</td>\n",
       "      <td>622.066742</td>\n",
       "      <td>627.284787</td>\n",
       "      <td>0.000000</td>\n",
       "      <td>12</td>\n",
       "      <td>0</td>\n",
       "    </tr>\n",
       "    <tr>\n",
       "      <th>3</th>\n",
       "      <td>4</td>\n",
       "      <td>C10004</td>\n",
       "      <td>2019-10-06</td>\n",
       "      <td>2020-08-24</td>\n",
       "      <td>1666.670542</td>\n",
       "      <td>0.636364</td>\n",
       "      <td>1499.00</td>\n",
       "      <td>1499.00</td>\n",
       "      <td>0.0</td>\n",
       "      <td>205.788017</td>\n",
       "      <td>...</td>\n",
       "      <td>0.000000</td>\n",
       "      <td>0.083333</td>\n",
       "      <td>1</td>\n",
       "      <td>1</td>\n",
       "      <td>7500.0</td>\n",
       "      <td>0.000000</td>\n",
       "      <td>NaN</td>\n",
       "      <td>0.000000</td>\n",
       "      <td>12</td>\n",
       "      <td>0</td>\n",
       "    </tr>\n",
       "    <tr>\n",
       "      <th>4</th>\n",
       "      <td>5</td>\n",
       "      <td>C10005</td>\n",
       "      <td>2019-10-06</td>\n",
       "      <td>2020-10-20</td>\n",
       "      <td>817.714335</td>\n",
       "      <td>1.000000</td>\n",
       "      <td>16.00</td>\n",
       "      <td>16.00</td>\n",
       "      <td>0.0</td>\n",
       "      <td>0.000000</td>\n",
       "      <td>...</td>\n",
       "      <td>0.000000</td>\n",
       "      <td>0.000000</td>\n",
       "      <td>0</td>\n",
       "      <td>1</td>\n",
       "      <td>1200.0</td>\n",
       "      <td>678.334763</td>\n",
       "      <td>244.791237</td>\n",
       "      <td>0.000000</td>\n",
       "      <td>12</td>\n",
       "      <td>0</td>\n",
       "    </tr>\n",
       "  </tbody>\n",
       "</table>\n",
       "<p>5 rows × 22 columns</p>\n",
       "</div>"
      ],
      "text/plain": [
       "   Unnamed: 0 cust_id activated_date last_payment_date      balance  \\\n",
       "0           1  C10001     2019-10-06        2020-09-09    40.900749   \n",
       "1           2  C10002     2019-10-06        2020-07-04  3202.467416   \n",
       "2           3  C10003     2019-10-06        2020-09-17  2495.148862   \n",
       "3           4  C10004     2019-10-06        2020-08-24  1666.670542   \n",
       "4           5  C10005     2019-10-06        2020-10-20   817.714335   \n",
       "\n",
       "   balance_frequency  purchases  oneoff_purchases  installments_purchases  \\\n",
       "0           0.818182      95.40              0.00                    95.4   \n",
       "1           0.909091       0.00              0.00                     0.0   \n",
       "2           1.000000     773.17            773.17                     0.0   \n",
       "3           0.636364    1499.00           1499.00                     0.0   \n",
       "4           1.000000      16.00             16.00                     0.0   \n",
       "\n",
       "   cash_advance  ...  purchases_installments_frequency  \\\n",
       "0      0.000000  ...                          0.083333   \n",
       "1   6442.945483  ...                          0.000000   \n",
       "2      0.000000  ...                          0.000000   \n",
       "3    205.788017  ...                          0.000000   \n",
       "4      0.000000  ...                          0.000000   \n",
       "\n",
       "   cash_advance_frequency  cash_advance_trx  purchases_trx  credit_limit  \\\n",
       "0                0.000000                 0              2        1000.0   \n",
       "1                0.250000                 4              0        7000.0   \n",
       "2                0.000000                 0             12        7500.0   \n",
       "3                0.083333                 1              1        7500.0   \n",
       "4                0.000000                 0              1        1200.0   \n",
       "\n",
       "      payments  minimum_payments  prc_full_payment  tenure  fraud  \n",
       "0   201.802084        139.509787          0.000000      12      0  \n",
       "1  4103.032597       1072.340217          0.222222      12      0  \n",
       "2   622.066742        627.284787          0.000000      12      0  \n",
       "3     0.000000               NaN          0.000000      12      0  \n",
       "4   678.334763        244.791237          0.000000      12      0  \n",
       "\n",
       "[5 rows x 22 columns]"
      ]
     },
     "execution_count": 129,
     "metadata": {},
     "output_type": "execute_result"
    }
   ],
   "source": [
    "stori_data_source_df = pd.read_csv(\"Stori_Data_Challenge (6).csv\")\n",
    "stori_data_source_df.head()"
   ]
  },
  {
   "cell_type": "markdown",
   "id": "fe6e942e",
   "metadata": {},
   "source": [
    "## 1.1 Plot an histogram of the balance amount for all the customers."
   ]
  },
  {
   "cell_type": "code",
   "execution_count": 130,
   "id": "088bbd78",
   "metadata": {},
   "outputs": [
    {
     "name": "stdout",
     "output_type": "stream",
     "text": [
      "bin with more than 2500 elements :\n",
      " - frequency: 2588.0\n",
      " - Range: 0.00 a 186.70$\n"
     ]
    },
    {
     "data": {
      "image/png": "[encoded data removed]",
      "text/plain": [
       "<Figure size 1000x800 with 1 Axes>"
      ]
     },
     "metadata": {},
     "output_type": "display_data"
    }
   ],
   "source": [
    "#let's ensure the 'balance' column is numeric\n",
    "stori_data_source_df['balance'] = pd.to_numeric(stori_data_source_df['balance'])\n",
    "\n",
    "\n",
    "plt.figure(figsize=(10, 8))\n",
    "\n",
    "#in order to be able to see the distribution of the balance column we will \n",
    "#have to determine the correct number of bins\n",
    "\n",
    "#lets use freedman's rule to determine the number of bins\n",
    "x = stori_data_source_df['balance'].dropna()\n",
    "q75, q25 = np.percentile(x, [75 ,25])\n",
    "iqr = q75 - q25\n",
    "bin_width = 2 * iqr * len(x)**(-1/3)\n",
    "bins = int((x.max() - x.min()) / bin_width)\n",
    "\n",
    "\n",
    "\n",
    "counts,bins,patches = plt.hist(stori_data_source_df['balance'], bins=bins, edgecolor='black',color=\"#00C38A\")\n",
    "plt.title('Histogram of Balance Amount 2019-2020')\n",
    "plt.xlabel('Balance')\n",
    "plt.ylabel('Frequency')\n",
    "plt.tight_layout()\n",
    "\n",
    "for spine in plt.gca().spines.values():\n",
    "    spine.set_visible(False)\n",
    "\n",
    "for i in range(len(counts)):\n",
    "    if counts[i] > 2500:\n",
    "        print(f\"bin with more than 2500 elements :\")\n",
    "        print(f\" - frequency: {counts[i]}\")\n",
    "        print(f\" - Range: {bins[i]:.2f} a {bins[i+1]:.2f}$\")\n",
    "plt.show()"
   ]
  },
  {
   "cell_type": "markdown",
   "id": "5acdd842",
   "metadata": {},
   "source": [
    "we can noticed that it presents a positive skewness\n",
    "\n",
    "\n",
    "but maybe this skewness it's because of a pattern\n"
   ]
  },
  {
   "cell_type": "markdown",
   "id": "5a71d074",
   "metadata": {},
   "source": [
    "## 1.2 Report any structure you find and any hypotheses you have about that structure. "
   ]
  },
  {
   "cell_type": "markdown",
   "id": "7fb1efbb",
   "metadata": {},
   "source": [
    " let's create balance ranges"
   ]
  },
  {
   "cell_type": "code",
   "execution_count": 131,
   "id": "c7ce7013",
   "metadata": {},
   "outputs": [
    {
     "name": "stdout",
     "output_type": "stream",
     "text": [
      "range_balance\n",
      "0-200          2650\n",
      "200-500        1028\n",
      "500-1000       1121\n",
      "1000-2500      2300\n",
      "2500-5000      1167\n",
      "5000-10000      616\n",
      "10000-20000      66\n",
      "Name: count, dtype: int64\n"
     ]
    }
   ],
   "source": [
    "\n",
    "\n",
    "bins = [0, 200, 500,1000, 2500, 5000, 10000, 20000]\n",
    "labels = ['0-200', '200-500', '500-1000','1000-2500', '2500-5000', '5000-10000', '10000-20000']\n",
    "\n",
    "stori_data_source_df['range_balance'] = pd.cut(\n",
    "    stori_data_source_df['balance'],\n",
    "    bins=bins,\n",
    "    labels=labels,\n",
    "    right=False\n",
    ")\n",
    "\n",
    "stori_data_source_df['range_balance'] = pd.Categorical(\n",
    "    stori_data_source_df['range_balance'],\n",
    "    categories=labels,\n",
    "    ordered=True\n",
    ")\n",
    "\n",
    "counts = stori_data_source_df['range_balance'].value_counts().sort_index()\n",
    "\n",
    "print(counts)"
   ]
  },
  {
   "cell_type": "markdown",
   "id": "44b7af81",
   "metadata": {},
   "source": [
    "\n",
    "### what is the difference between accounts with balance (0-200) and (1000-2500)??\n",
    "\n",
    "\n",
    "### let's see the balance_frequency grouping by range_balance"
   ]
  },
  {
   "cell_type": "code",
   "execution_count": 132,
   "id": "87b0f233",
   "metadata": {},
   "outputs": [
    {
     "data": {
      "text/html": [
       "<div>\n",
       "<style scoped>\n",
       "    .dataframe tbody tr th:only-of-type {\n",
       "        vertical-align: middle;\n",
       "    }\n",
       "\n",
       "    .dataframe tbody tr th {\n",
       "        vertical-align: top;\n",
       "    }\n",
       "\n",
       "    .dataframe thead th {\n",
       "        text-align: right;\n",
       "    }\n",
       "</style>\n",
       "<table border=\"1\" class=\"dataframe\">\n",
       "  <thead>\n",
       "    <tr style=\"text-align: right;\">\n",
       "      <th></th>\n",
       "      <th>range_balance</th>\n",
       "      <th>balance_frequency</th>\n",
       "    </tr>\n",
       "  </thead>\n",
       "  <tbody>\n",
       "    <tr>\n",
       "      <th>0</th>\n",
       "      <td>0-200</td>\n",
       "      <td>0.684980</td>\n",
       "    </tr>\n",
       "    <tr>\n",
       "      <th>1</th>\n",
       "      <td>200-500</td>\n",
       "      <td>0.891800</td>\n",
       "    </tr>\n",
       "    <tr>\n",
       "      <th>2</th>\n",
       "      <td>500-1000</td>\n",
       "      <td>0.937615</td>\n",
       "    </tr>\n",
       "    <tr>\n",
       "      <th>3</th>\n",
       "      <td>1000-2500</td>\n",
       "      <td>0.973880</td>\n",
       "    </tr>\n",
       "    <tr>\n",
       "      <th>4</th>\n",
       "      <td>2500-5000</td>\n",
       "      <td>0.984465</td>\n",
       "    </tr>\n",
       "    <tr>\n",
       "      <th>5</th>\n",
       "      <td>5000-10000</td>\n",
       "      <td>0.993091</td>\n",
       "    </tr>\n",
       "    <tr>\n",
       "      <th>6</th>\n",
       "      <td>10000-20000</td>\n",
       "      <td>1.000000</td>\n",
       "    </tr>\n",
       "  </tbody>\n",
       "</table>\n",
       "</div>"
      ],
      "text/plain": [
       "  range_balance  balance_frequency\n",
       "0         0-200           0.684980\n",
       "1       200-500           0.891800\n",
       "2      500-1000           0.937615\n",
       "3     1000-2500           0.973880\n",
       "4     2500-5000           0.984465\n",
       "5    5000-10000           0.993091\n",
       "6   10000-20000           1.000000"
      ]
     },
     "execution_count": 132,
     "metadata": {},
     "output_type": "execute_result"
    }
   ],
   "source": [
    "balance_frequency_by_range_balance_df = stori_data_source_df.groupby(\"range_balance\")[\"balance_frequency\"].mean().reset_index()\n",
    "balance_frequency_by_range_balance_df.sort_values(by=\"balance_frequency\", ascending=True, inplace=True)\n",
    "balance_frequency_by_range_balance_df.head(10)"
   ]
  },
  {
   "cell_type": "markdown",
   "id": "cbdf9687",
   "metadata": {},
   "source": [
    "We can conclude that there is a <b>causal relationship</b> between balance and balance frequency: when balance increases, balance frequency also increases.\n",
    "\n",
    "<b> the account with more balance are the ones updating more frequently </b>"
   ]
  },
  {
   "cell_type": "markdown",
   "id": "608a1977",
   "metadata": {},
   "source": [
    "So, the cardholders with greater range_balance are the ones who use more their credit card? or why their balance updates more frequently?"
   ]
  },
  {
   "cell_type": "code",
   "execution_count": 133,
   "id": "a9d08341",
   "metadata": {},
   "outputs": [
    {
     "data": {
      "text/html": [
       "<div>\n",
       "<style scoped>\n",
       "    .dataframe tbody tr th:only-of-type {\n",
       "        vertical-align: middle;\n",
       "    }\n",
       "\n",
       "    .dataframe tbody tr th {\n",
       "        vertical-align: top;\n",
       "    }\n",
       "\n",
       "    .dataframe thead th {\n",
       "        text-align: right;\n",
       "    }\n",
       "</style>\n",
       "<table border=\"1\" class=\"dataframe\">\n",
       "  <thead>\n",
       "    <tr style=\"text-align: right;\">\n",
       "      <th></th>\n",
       "      <th>range_balance</th>\n",
       "      <th>purchases_frequency</th>\n",
       "    </tr>\n",
       "  </thead>\n",
       "  <tbody>\n",
       "    <tr>\n",
       "      <th>3</th>\n",
       "      <td>1000-2500</td>\n",
       "      <td>0.413877</td>\n",
       "    </tr>\n",
       "    <tr>\n",
       "      <th>4</th>\n",
       "      <td>2500-5000</td>\n",
       "      <td>0.428981</td>\n",
       "    </tr>\n",
       "    <tr>\n",
       "      <th>5</th>\n",
       "      <td>5000-10000</td>\n",
       "      <td>0.436926</td>\n",
       "    </tr>\n",
       "    <tr>\n",
       "      <th>2</th>\n",
       "      <td>500-1000</td>\n",
       "      <td>0.481019</td>\n",
       "    </tr>\n",
       "    <tr>\n",
       "      <th>0</th>\n",
       "      <td>0-200</td>\n",
       "      <td>0.565448</td>\n",
       "    </tr>\n",
       "    <tr>\n",
       "      <th>1</th>\n",
       "      <td>200-500</td>\n",
       "      <td>0.572219</td>\n",
       "    </tr>\n",
       "    <tr>\n",
       "      <th>6</th>\n",
       "      <td>10000-20000</td>\n",
       "      <td>0.591713</td>\n",
       "    </tr>\n",
       "  </tbody>\n",
       "</table>\n",
       "</div>"
      ],
      "text/plain": [
       "  range_balance  purchases_frequency\n",
       "3     1000-2500             0.413877\n",
       "4     2500-5000             0.428981\n",
       "5    5000-10000             0.436926\n",
       "2      500-1000             0.481019\n",
       "0         0-200             0.565448\n",
       "1       200-500             0.572219\n",
       "6   10000-20000             0.591713"
      ]
     },
     "execution_count": 133,
     "metadata": {},
     "output_type": "execute_result"
    }
   ],
   "source": [
    "purchase_frequency_by_range_balance_df = stori_data_source_df.groupby(\"range_balance\")[\"purchases_frequency\"].mean().reset_index()\n",
    "purchase_frequency_by_range_balance_df.sort_values(by=\"purchases_frequency\", ascending=True, inplace=True)\n",
    "purchase_frequency_by_range_balance_df.head(10)"
   ]
  },
  {
   "cell_type": "markdown",
   "id": "b3129532",
   "metadata": {},
   "source": [
    "### we can notice that the accounts with balance between 1000-2500 even thought they are the top 2 in frequency, they are the most innactive purchase users with their credit cards and <b>the accounts with balance between 0-200 are most likely to buy because of their purchase frequency </b>"
   ]
  },
  {
   "cell_type": "markdown",
   "id": "7314836f",
   "metadata": {},
   "source": [
    "## let's see if they tend to buy more in installments or 1x"
   ]
  },
  {
   "cell_type": "code",
   "execution_count": 134,
   "id": "ee91732a",
   "metadata": {},
   "outputs": [
    {
     "data": {
      "text/html": [
       "<div>\n",
       "<style scoped>\n",
       "    .dataframe tbody tr th:only-of-type {\n",
       "        vertical-align: middle;\n",
       "    }\n",
       "\n",
       "    .dataframe tbody tr th {\n",
       "        vertical-align: top;\n",
       "    }\n",
       "\n",
       "    .dataframe thead th {\n",
       "        text-align: right;\n",
       "    }\n",
       "</style>\n",
       "<table border=\"1\" class=\"dataframe\">\n",
       "  <thead>\n",
       "    <tr style=\"text-align: right;\">\n",
       "      <th></th>\n",
       "      <th>range_balance</th>\n",
       "      <th>oneoff_purchases_frequency</th>\n",
       "      <th>purchases_installments_frequency</th>\n",
       "    </tr>\n",
       "  </thead>\n",
       "  <tbody>\n",
       "    <tr>\n",
       "      <th>0</th>\n",
       "      <td>0-200</td>\n",
       "      <td>0.139411</td>\n",
       "      <td>0.440773</td>\n",
       "    </tr>\n",
       "    <tr>\n",
       "      <th>1</th>\n",
       "      <td>200-500</td>\n",
       "      <td>0.296595</td>\n",
       "      <td>0.408231</td>\n",
       "    </tr>\n",
       "    <tr>\n",
       "      <th>2</th>\n",
       "      <td>500-1000</td>\n",
       "      <td>0.239350</td>\n",
       "      <td>0.353280</td>\n",
       "    </tr>\n",
       "    <tr>\n",
       "      <th>3</th>\n",
       "      <td>1000-2500</td>\n",
       "      <td>0.189465</td>\n",
       "      <td>0.298450</td>\n",
       "    </tr>\n",
       "    <tr>\n",
       "      <th>4</th>\n",
       "      <td>2500-5000</td>\n",
       "      <td>0.226419</td>\n",
       "      <td>0.302456</td>\n",
       "    </tr>\n",
       "    <tr>\n",
       "      <th>5</th>\n",
       "      <td>5000-10000</td>\n",
       "      <td>0.238990</td>\n",
       "      <td>0.331805</td>\n",
       "    </tr>\n",
       "    <tr>\n",
       "      <th>6</th>\n",
       "      <td>10000-20000</td>\n",
       "      <td>0.328972</td>\n",
       "      <td>0.489784</td>\n",
       "    </tr>\n",
       "  </tbody>\n",
       "</table>\n",
       "</div>"
      ],
      "text/plain": [
       "  range_balance  oneoff_purchases_frequency  purchases_installments_frequency\n",
       "0         0-200                    0.139411                          0.440773\n",
       "1       200-500                    0.296595                          0.408231\n",
       "2      500-1000                    0.239350                          0.353280\n",
       "3     1000-2500                    0.189465                          0.298450\n",
       "4     2500-5000                    0.226419                          0.302456\n",
       "5    5000-10000                    0.238990                          0.331805\n",
       "6   10000-20000                    0.328972                          0.489784"
      ]
     },
     "execution_count": 134,
     "metadata": {},
     "output_type": "execute_result"
    }
   ],
   "source": [
    "\n",
    "purchase_frequency_by_range_balance_df = stori_data_source_df.groupby(\"range_balance\")[[\n",
    "    \"oneoff_purchases_frequency\", \"purchases_installments_frequency\"\n",
    "]].mean().reset_index()\n",
    "#purchase_frequency_by_range_balance_df.sort_values(by=\"purchases_frequency\", ascending=True, inplace=True)\n",
    "purchase_frequency_by_range_balance_df.head(10)"
   ]
  },
  {
   "cell_type": "markdown",
   "id": "3e708fa7",
   "metadata": {},
   "source": [
    "### the users with account balance between 0-200 definitely made more installments purchase but how much of their credit_limit they use in installments?"
   ]
  },
  {
   "cell_type": "code",
   "execution_count": 135,
   "id": "75efea10",
   "metadata": {},
   "outputs": [
    {
     "data": {
      "text/html": [
       "<div>\n",
       "<style scoped>\n",
       "    .dataframe tbody tr th:only-of-type {\n",
       "        vertical-align: middle;\n",
       "    }\n",
       "\n",
       "    .dataframe tbody tr th {\n",
       "        vertical-align: top;\n",
       "    }\n",
       "\n",
       "    .dataframe thead th {\n",
       "        text-align: right;\n",
       "    }\n",
       "</style>\n",
       "<table border=\"1\" class=\"dataframe\">\n",
       "  <thead>\n",
       "    <tr style=\"text-align: right;\">\n",
       "      <th></th>\n",
       "      <th>range_balance</th>\n",
       "      <th>purchases_installments_frequency</th>\n",
       "      <th>installments_purchases_percentage_respect_credit_limit</th>\n",
       "    </tr>\n",
       "  </thead>\n",
       "  <tbody>\n",
       "    <tr>\n",
       "      <th>0</th>\n",
       "      <td>0-200</td>\n",
       "      <td>0.440773</td>\n",
       "      <td>13.275219</td>\n",
       "    </tr>\n",
       "    <tr>\n",
       "      <th>1</th>\n",
       "      <td>200-500</td>\n",
       "      <td>0.408231</td>\n",
       "      <td>19.672403</td>\n",
       "    </tr>\n",
       "    <tr>\n",
       "      <th>2</th>\n",
       "      <td>500-1000</td>\n",
       "      <td>0.353280</td>\n",
       "      <td>14.526387</td>\n",
       "    </tr>\n",
       "    <tr>\n",
       "      <th>3</th>\n",
       "      <td>1000-2500</td>\n",
       "      <td>0.298450</td>\n",
       "      <td>10.875843</td>\n",
       "    </tr>\n",
       "    <tr>\n",
       "      <th>4</th>\n",
       "      <td>2500-5000</td>\n",
       "      <td>0.302456</td>\n",
       "      <td>7.394893</td>\n",
       "    </tr>\n",
       "    <tr>\n",
       "      <th>5</th>\n",
       "      <td>5000-10000</td>\n",
       "      <td>0.331805</td>\n",
       "      <td>5.882532</td>\n",
       "    </tr>\n",
       "    <tr>\n",
       "      <th>6</th>\n",
       "      <td>10000-20000</td>\n",
       "      <td>0.489784</td>\n",
       "      <td>13.361061</td>\n",
       "    </tr>\n",
       "  </tbody>\n",
       "</table>\n",
       "</div>"
      ],
      "text/plain": [
       "  range_balance  purchases_installments_frequency  \\\n",
       "0         0-200                          0.440773   \n",
       "1       200-500                          0.408231   \n",
       "2      500-1000                          0.353280   \n",
       "3     1000-2500                          0.298450   \n",
       "4     2500-5000                          0.302456   \n",
       "5    5000-10000                          0.331805   \n",
       "6   10000-20000                          0.489784   \n",
       "\n",
       "   installments_purchases_percentage_respect_credit_limit  \n",
       "0                                          13.275219       \n",
       "1                                          19.672403       \n",
       "2                                          14.526387       \n",
       "3                                          10.875843       \n",
       "4                                           7.394893       \n",
       "5                                           5.882532       \n",
       "6                                          13.361061       "
      ]
     },
     "execution_count": 135,
     "metadata": {},
     "output_type": "execute_result"
    }
   ],
   "source": [
    "stori_data_source_df[\"installments_purchases_percentage_respect_credit_limit\"] = round((stori_data_source_df[\"installments_purchases\"] / stori_data_source_df[\"credit_limit\"])*100,2)\n",
    "stori_data_source_df[\"installments_purchases_percentage_respect_credit_limit\"] = stori_data_source_df[\"installments_purchases_percentage_respect_credit_limit\"].fillna(0)\n",
    "\n",
    "\n",
    "purchase_frequency_by_range_balance_df = stori_data_source_df.groupby(\"range_balance\")[[\n",
    "     \"purchases_installments_frequency\",\"installments_purchases_percentage_respect_credit_limit\"\n",
    "]].mean().reset_index()\n",
    "#purchase_frequency_by_range_balance_df.sort_values(by=\"purchases_frequency\", ascending=True, inplace=True)\n",
    "purchase_frequency_by_range_balance_df.head(10)"
   ]
  },
  {
   "cell_type": "markdown",
   "id": "d9daf831",
   "metadata": {},
   "source": [
    "## so we can <b> conclude that the reason of the frequency of accounts with balance between 0-200 is popular because they tend to buy a high value items in installments payments resulting in few balance left in their account"
   ]
  },
  {
   "cell_type": "markdown",
   "id": "8d068d21",
   "metadata": {},
   "source": [
    "## 1.3 Report mean and median balance, grouped by year and month of activated_date.  "
   ]
  },
  {
   "cell_type": "code",
   "execution_count": 136,
   "id": "286d8a45",
   "metadata": {},
   "outputs": [
    {
     "data": {
      "text/html": [
       "<div>\n",
       "<style scoped>\n",
       "    .dataframe tbody tr th:only-of-type {\n",
       "        vertical-align: middle;\n",
       "    }\n",
       "\n",
       "    .dataframe tbody tr th {\n",
       "        vertical-align: top;\n",
       "    }\n",
       "\n",
       "    .dataframe thead th {\n",
       "        text-align: right;\n",
       "    }\n",
       "</style>\n",
       "<table border=\"1\" class=\"dataframe\">\n",
       "  <thead>\n",
       "    <tr style=\"text-align: right;\">\n",
       "      <th></th>\n",
       "      <th>month_activated_date</th>\n",
       "      <th>mean_balance</th>\n",
       "      <th>median_balance</th>\n",
       "    </tr>\n",
       "  </thead>\n",
       "  <tbody>\n",
       "    <tr>\n",
       "      <th>0</th>\n",
       "      <td>2019-10</td>\n",
       "      <td>2482.23</td>\n",
       "      <td>1524.41</td>\n",
       "    </tr>\n",
       "    <tr>\n",
       "      <th>1</th>\n",
       "      <td>2019-11</td>\n",
       "      <td>1848.70</td>\n",
       "      <td>1082.07</td>\n",
       "    </tr>\n",
       "    <tr>\n",
       "      <th>2</th>\n",
       "      <td>2019-12</td>\n",
       "      <td>2018.79</td>\n",
       "      <td>1162.59</td>\n",
       "    </tr>\n",
       "    <tr>\n",
       "      <th>3</th>\n",
       "      <td>2020-01</td>\n",
       "      <td>1854.54</td>\n",
       "      <td>1175.75</td>\n",
       "    </tr>\n",
       "    <tr>\n",
       "      <th>4</th>\n",
       "      <td>2020-02</td>\n",
       "      <td>1747.35</td>\n",
       "      <td>994.84</td>\n",
       "    </tr>\n",
       "    <tr>\n",
       "      <th>5</th>\n",
       "      <td>2020-03</td>\n",
       "      <td>1554.97</td>\n",
       "      <td>828.95</td>\n",
       "    </tr>\n",
       "    <tr>\n",
       "      <th>6</th>\n",
       "      <td>2020-04</td>\n",
       "      <td>1483.18</td>\n",
       "      <td>910.14</td>\n",
       "    </tr>\n",
       "    <tr>\n",
       "      <th>7</th>\n",
       "      <td>2020-05</td>\n",
       "      <td>1214.33</td>\n",
       "      <td>734.56</td>\n",
       "    </tr>\n",
       "    <tr>\n",
       "      <th>8</th>\n",
       "      <td>2020-06</td>\n",
       "      <td>940.00</td>\n",
       "      <td>472.79</td>\n",
       "    </tr>\n",
       "    <tr>\n",
       "      <th>9</th>\n",
       "      <td>2020-07</td>\n",
       "      <td>649.72</td>\n",
       "      <td>221.29</td>\n",
       "    </tr>\n",
       "  </tbody>\n",
       "</table>\n",
       "</div>"
      ],
      "text/plain": [
       "  month_activated_date  mean_balance  median_balance\n",
       "0              2019-10       2482.23         1524.41\n",
       "1              2019-11       1848.70         1082.07\n",
       "2              2019-12       2018.79         1162.59\n",
       "3              2020-01       1854.54         1175.75\n",
       "4              2020-02       1747.35          994.84\n",
       "5              2020-03       1554.97          828.95\n",
       "6              2020-04       1483.18          910.14\n",
       "7              2020-05       1214.33          734.56\n",
       "8              2020-06        940.00          472.79\n",
       "9              2020-07        649.72          221.29"
      ]
     },
     "execution_count": 136,
     "metadata": {},
     "output_type": "execute_result"
    }
   ],
   "source": [
    "stori_data_source_df['activated_date'] = pd.to_datetime(stori_data_source_df['activated_date'])\n",
    "\n",
    "\n",
    "stori_data_source_df['month_activated_date'] = stori_data_source_df['activated_date'].dt.to_period('M')  \n",
    "\n",
    "mean_and_median_balance_grouped_df = stori_data_source_df.groupby('month_activated_date')[\"balance\"].agg(['mean','median']).reset_index()\n",
    "\n",
    "\n",
    "mean_and_median_balance_grouped_df.rename(columns={\"mean\":\"mean_balance\",\"median\":\"median_balance\"}, inplace=True)\n",
    "mean_and_median_balance_grouped_df[\"mean_balance\"] = round(mean_and_median_balance_grouped_df[\"mean_balance\"], 2)\n",
    "mean_and_median_balance_grouped_df[\"median_balance\"] = round(mean_and_median_balance_grouped_df[\"median_balance\"], 2)\n",
    "mean_and_median_balance_grouped_df.head(15)"
   ]
  },
  {
   "cell_type": "markdown",
   "id": "0a1e26a0",
   "metadata": {},
   "source": [
    "# Question 2 \n"
   ]
  },
  {
   "cell_type": "markdown",
   "id": "740ea770",
   "metadata": {},
   "source": [
    "\n",
    "##### 2.1 Report in a table the following information for customers who activated their account and made their last payment during 2020: cust_id (excluding letters), activated_date (in format YYYY-MM), last_payment_date (in format YYYY-MM-DD),cash_advance, credit_limit, and a calculated field of cash_advance as a percentage of credit_limit.  "
   ]
  },
  {
   "cell_type": "code",
   "execution_count": 137,
   "id": "3a594e0a",
   "metadata": {},
   "outputs": [],
   "source": [
    "##first let's just filter the data frame \n",
    "stori_data_source_df['activated_date'] = pd.to_datetime(stori_data_source_df['activated_date'])\n",
    "stori_data_source_df['last_payment_date'] = pd.to_datetime(stori_data_source_df['last_payment_date'])\n",
    "customers_2020_df = stori_data_source_df.loc[(stori_data_source_df['activated_date'].dt.year == 2020)\n",
    "                                              & (stori_data_source_df['last_payment_date'].dt.year == 2020)]\n",
    "\n",
    "#now just conserve the columns we want \n",
    "customers_2020_df = customers_2020_df.filter(items=[\"cust_id\",\"activated_date\",\"last_payment_date\",\"cash_advance\",\"credit_limit\"])\n",
    "customers_2020_df[\"cust_id\"].replace(to_replace=\"C\", value=\"\", regex=True, inplace=True)\n",
    "customers_2020_df['activated_date'] = customers_2020_df['activated_date'].dt.strftime('%Y-%m')\n",
    "\n",
    "##calculated field \n",
    "customers_2020_df[\"cash_advance_percentage_respect_credit_limit\"] = round((customers_2020_df[\"cash_advance\"] / customers_2020_df[\"credit_limit\"])*100,2)\n",
    "customers_2020_df.head()\n",
    "\n",
    "#finally let's save it as csv file\n",
    "customers_2020_df.to_csv(\"customer_2020.csv\",index=False)\n",
    "\n"
   ]
  },
  {
   "cell_type": "markdown",
   "id": "33ef9fd1",
   "metadata": {},
   "source": []
  },
  {
   "cell_type": "markdown",
   "id": "b9bf31d5",
   "metadata": {},
   "source": [
    "#  Question 3  \n"
   ]
  },
  {
   "cell_type": "markdown",
   "id": "adbd43bf",
   "metadata": {},
   "source": [
    "## 3.1 Build a predictive model for fraud. \n"
   ]
  },
  {
   "cell_type": "markdown",
   "id": "fe4dd28c",
   "metadata": {},
   "source": [
    "##### before starting to create a predictive model, let's see the values of the objective column (\"fraud\")"
   ]
  },
  {
   "cell_type": "code",
   "execution_count": 138,
   "id": "26520a9e",
   "metadata": {},
   "outputs": [
    {
     "name": "stdout",
     "output_type": "stream",
     "text": [
      "[0 1]\n"
     ]
    }
   ],
   "source": [
    "print(stori_data_source_df[\"fraud\"].unique())"
   ]
  },
  {
   "cell_type": "markdown",
   "id": "55371d6e",
   "metadata": {},
   "source": [
    "### so we can notice it is a <b>binary class</b> and before chossing the right algorithm we need to observe <b>if this a class imbalance problem </b>"
   ]
  },
  {
   "cell_type": "code",
   "execution_count": 139,
   "id": "3a5d7a4f",
   "metadata": {},
   "outputs": [
    {
     "name": "stdout",
     "output_type": "stream",
     "text": [
      "fraud\n",
      "0    8880\n",
      "1      70\n",
      "Name: count, dtype: int64\n"
     ]
    }
   ],
   "source": [
    "print(stori_data_source_df[\"fraud\"].value_counts())"
   ]
  },
  {
   "cell_type": "code",
   "execution_count": 140,
   "id": "cf71ec61",
   "metadata": {},
   "outputs": [
    {
     "name": "stdout",
     "output_type": "stream",
     "text": [
      "Imbalance ratio: 12685.71%\n"
     ]
    }
   ],
   "source": [
    "imbalance_ratio = (8880/70)*100\n",
    "print(f\"Imbalance ratio: {imbalance_ratio:.2f}%\")"
   ]
  },
  {
   "cell_type": "markdown",
   "id": "1ffb09d7",
   "metadata": {},
   "source": [
    "### <b>definitely it is a class imbalance problem</b>\n",
    "\n",
    "#### so we should be careful with the algorithm selected if we want to use contrast pattern-based classifiers because we know that several contrast pattern-based classifiers do not have a good behavior with class imbalance problems due to some objects belonging to the minority class can be identified as noise"
   ]
  },
  {
   "cell_type": "markdown",
   "id": "ba4be9ef",
   "metadata": {},
   "source": [
    "#### PBC4CIP is a good algorithm for class imbalance problems also \tSMOTE-TL + LCMine algorithm and RUSboost algorithm"
   ]
  },
  {
   "cell_type": "code",
   "execution_count": 141,
   "id": "11f5f261",
   "metadata": {},
   "outputs": [],
   "source": [
    "from imblearn.ensemble import RUSBoostClassifier\n",
    "from xgboost import XGBClassifier\n",
    "from sklearn.model_selection import train_test_split\n",
    "from sklearn.metrics import confusion_matrix\n"
   ]
  },
  {
   "cell_type": "code",
   "execution_count": 142,
   "id": "134bf3b1",
   "metadata": {},
   "outputs": [
    {
     "name": "stdout",
     "output_type": "stream",
     "text": [
      "balance                               2\n",
      "balance_frequency                     0\n",
      "purchases                             0\n",
      "oneoff_purchases                      0\n",
      "installments_purchases                0\n",
      "cash_advance                        112\n",
      "purchases_frequency                   0\n",
      "oneoff_purchases_frequency            0\n",
      "purchases_installments_frequency      0\n",
      "cash_advance_frequency                0\n",
      "cash_advance_trx                      0\n",
      "purchases_trx                         0\n",
      "credit_limit                          1\n",
      "payments                              0\n",
      "minimum_payments                    321\n",
      "prc_full_payment                      0\n",
      "tenure                                0\n",
      "dtype: int64\n",
      "0\n"
     ]
    }
   ],
   "source": [
    "\n",
    "# before selecting the columns, it might be helpful to see a correlation matrix to understand how the columns influence each other\n",
    "##actually not, correlation matrix is only useful for continuous variables \n",
    "\n",
    "#it is not helpful to include dates (they change over time) \n",
    "x = stori_data_source_df.filter(items=[\"balance\",\"balance_frequency\",\"purchases\",\"oneoff_purchases\",\"installments_purchases\",\"cash_advance\",\"purchases_frequency\",\"oneoff_purchases_frequency\",\"purchases_installments_frequency\",\"cash_advance_frequency\",\"cash_advance_trx\",\"purchases_trx\",\"credit_limit\",\"payments\",\"minimum_payments\",\"prc_full_payment\",\"tenure\"]) \n",
    "y = stori_data_source_df['fraud']\n",
    "\n",
    "print(x.isnull().sum())\n",
    "print(y.isnull().sum())\n",
    "\n",
    "# minium_payments NA do not have fraud rows \"1\"\n",
    "# cash_advance NA only have 2 fraud rows \"1\"\n",
    "# amount NA do not have fraud rows \"1\"\n",
    "x = x.dropna()\n",
    "y = y.loc[x.index] \n",
    "\n",
    "#stratify=1 ensure us that the split is stratified, meaning that the proportion of classes in the target variable is preserved in both the training and test sets\n",
    "x_train, x_test, y_train, y_test = train_test_split(x, y, test_size=0.2, random_state=45,stratify=y) \n",
    "\n",
    "\n",
    "\n",
    "model_RUSboost = RUSBoostClassifier(n_estimators=100, random_state=42)\n",
    "model_RUSboost.fit(x_train, y_train)\n",
    "y_pred = model_RUSboost.predict(x_test)\n",
    "\n"
   ]
  },
  {
   "cell_type": "markdown",
   "id": "c4014085",
   "metadata": {},
   "source": [
    "## results: "
   ]
  },
  {
   "cell_type": "code",
   "execution_count": 143,
   "id": "5b8ae2f0",
   "metadata": {},
   "outputs": [
    {
     "name": "stdout",
     "output_type": "stream",
     "text": [
      "[[1567  123]\n",
      " [   1   13]]\n"
     ]
    },
    {
     "data": {
      "image/png": "[encoded data removed]",
      "text/plain": [
       "<Figure size 700x600 with 1 Axes>"
      ]
     },
     "metadata": {},
     "output_type": "display_data"
    }
   ],
   "source": [
    "\n",
    "\n",
    "print(confusion_matrix(y_test, y_pred))\n",
    "cm = confusion_matrix(y_test, y_pred)\n",
    "\n",
    "\n",
    "plt.figure(figsize=(7, 6))\n",
    "\n",
    "sns.heatmap(cm, annot=True, fmt='d', cmap='Blues', linewidths=0.5, linecolor='gray',\n",
    "            xticklabels=['Predicted values: 0', 'Predicted values: 1'],\n",
    "            yticklabels=['Actual values: 0', 'Actual values: 1'],\n",
    "            annot_kws={\"size\": 16}, square=True,cbar=False)\n",
    "\n",
    "\n",
    "plt.title('Confusion Matrix - RUSBoost Model', fontsize=16, weight='bold', pad=20)\n",
    "\n",
    "\n",
    "\n",
    "plt.xticks(rotation=0)\n",
    "plt.yticks(rotation=0)\n",
    "\n",
    "\n",
    "plt.tight_layout()\n",
    "plt.show()\n",
    "\n",
    "#true negative \n",
    "#false positive\n",
    "\n",
    "#false negative\n",
    "#true positive"
   ]
  },
  {
   "cell_type": "code",
   "execution_count": 144,
   "id": "57ebf08a",
   "metadata": {},
   "outputs": [
    {
     "name": "stdout",
     "output_type": "stream",
     "text": [
      "[[1689    1]\n",
      " [   5    9]]\n"
     ]
    },
    {
     "data": {
      "image/png": "[encoded data removed]",
      "text/plain": [
       "<Figure size 700x600 with 1 Axes>"
      ]
     },
     "metadata": {},
     "output_type": "display_data"
    }
   ],
   "source": [
    "x_train_2, x_test_2, y_train_2, y_test_2 = train_test_split(x, y, test_size=0.2, random_state=45,stratify=y) \n",
    "\n",
    "scale = (y_train_2 == 0).sum() / (y_train_2 == 1).sum()\n",
    "model_xgboost = XGBClassifier(\n",
    "    scale_pos_weight=scale,\n",
    "    use_label_encoder=False,\n",
    "    eval_metric='logloss',\n",
    "    random_state=42\n",
    ")\n",
    "\n",
    "model_xgboost.fit(x_train_2, y_train_2)\n",
    "y_pred_2 = model_xgboost.predict(x_test_2)\n",
    "\n",
    "\n",
    "print(confusion_matrix(y_test_2, y_pred_2))\n",
    "\n",
    "\n",
    "\n",
    "cm = confusion_matrix(y_test_2, y_pred_2)\n",
    "plt.figure(figsize=(7, 6))\n",
    "sns.heatmap(cm, annot=True, fmt='d', cmap='Blues', linewidths=0.5, linecolor='gray',\n",
    "            xticklabels=['Predicted values: 0', 'Predicted values: 1'],\n",
    "            yticklabels=['Actual values: 0', 'Actual values: 1'],\n",
    "            annot_kws={\"size\": 16}, square=True,cbar=False)\n",
    "\n",
    "plt.title('Confusion Matrix - XGBoost Model', fontsize=16, weight='bold', pad=20)\n",
    "plt.xticks(rotation=0)\n",
    "plt.yticks(rotation=0)\n",
    "plt.tight_layout()\n",
    "plt.show()\n"
   ]
  },
  {
   "cell_type": "markdown",
   "id": "b4a348b3",
   "metadata": {},
   "source": [
    "## 3.2 What explanatory variable was the most powerful predictor for fraud? "
   ]
  },
  {
   "cell_type": "code",
   "execution_count": 145,
   "id": "9ad3daec",
   "metadata": {},
   "outputs": [
    {
     "data": {
      "image/png": "[encoded data removed]",
      "text/plain": [
       "<Figure size 1600x800 with 2 Axes>"
      ]
     },
     "metadata": {},
     "output_type": "display_data"
    }
   ],
   "source": [
    "\n",
    "rus_importances = pd.Series(model_RUSboost.feature_importances_, index=x.columns).sort_values(ascending=True)\n",
    "xgb_importances = pd.Series(model_xgboost.feature_importances_, index=x.columns).sort_values(ascending=True)\n",
    "\n",
    "\n",
    "fig, axes = plt.subplots(ncols=2, figsize=(16, 8), sharey=True)\n",
    "\n",
    "axes[0].barh(rus_importances.index, rus_importances.values, color='skyblue')\n",
    "axes[0].set_title('Feature Importance - RUSBoost')\n",
    "axes[0].set_xlabel('Importance')\n",
    "axes[0].grid(axis='x', linestyle='--', alpha=0.6)\n",
    "\n",
    "axes[1].barh(xgb_importances.index, xgb_importances.values, color='lightgreen')\n",
    "axes[1].set_title('Feature Importance - XGBoost')\n",
    "axes[1].set_xlabel('Importance')\n",
    "axes[1].grid(axis='x', linestyle='--', alpha=0.6)\n",
    "\n",
    "plt.suptitle('Comparison of Feature Importances: RUSBoost vs XGBoost', fontsize=16, weight='bold', y=1.02)\n",
    "plt.tight_layout()\n",
    "plt.show()\n"
   ]
  }
 ],
 "metadata": {
  "kernelspec": {
   "display_name": "Python 3",
   "language": "python",
   "name": "python3"
  },
  "language_info": {
   "codemirror_mode": {
    "name": "ipython",
    "version": 3
   },
   "file_extension": ".py",
   "mimetype": "text/x-python",
   "name": "python",
   "nbconvert_exporter": "python",
   "pygments_lexer": "ipython3",
   "version": "3.13.2"
  }
 },
 "nbformat": 4,
 "nbformat_minor": 5
}
